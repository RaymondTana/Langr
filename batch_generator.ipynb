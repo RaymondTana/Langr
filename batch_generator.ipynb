{
 "cells": [
  {
   "cell_type": "markdown",
   "id": "582952ee",
   "metadata": {},
   "source": [
    "## Batch Game Generator"
   ]
  },
  {
   "cell_type": "markdown",
   "id": "858f9210",
   "metadata": {},
   "source": [
    "Other possible clues:\n",
    "  - Other linguistic info about the language\n",
    "  - Place of origin: \n",
    "  - Specific to the audio sample: \n",
    "    - Wompy audio version\n",
    "  - Look into semantic scholar, only import if these fields are not blank or null"
   ]
  },
  {
   "cell_type": "markdown",
   "id": "851c1253",
   "metadata": {},
   "source": [
    "## Settings"
   ]
  },
  {
   "cell_type": "code",
   "execution_count": 1,
   "id": "b877e34f",
   "metadata": {},
   "outputs": [],
   "source": [
    "# NUMBER OF DAYS TO GENERATE USING THIS BATCH PROCESS\n",
    "number_to_generate = 80"
   ]
  },
  {
   "cell_type": "code",
   "execution_count": 2,
   "id": "ffb7d4d9",
   "metadata": {},
   "outputs": [],
   "source": [
    "import pandas as pd\n",
    "import numpy as np\n",
    "from langcodes import Language\n",
    "from datasets import load_dataset, Audio as HF_Audio\n",
    "import librosa, scipy.signal as sig\n",
    "from datetime import datetime\n",
    "from datetime import date, timedelta\n",
    "from pathlib import Path\n",
    "import subprocess\n",
    "import shutil, soundfile as sf\n",
    "import random\n",
    "from selenium import webdriver\n",
    "from selenium.webdriver.common.by import By\n",
    "from selenium.webdriver.support.ui import WebDriverWait\n",
    "from selenium.webdriver.support import expected_conditions as EC\n",
    "from selenium.webdriver.common.keys import Keys\n",
    "from selenium.webdriver.common.action_chains import ActionChains\n",
    "import time"
   ]
  },
  {
   "cell_type": "code",
   "execution_count": 3,
   "id": "f6e87007",
   "metadata": {},
   "outputs": [],
   "source": [
    "# Metadata\n",
    "LANGUAGE_DATA_PATH = 'languages.csv'\n",
    "GAME_DATA_PATH = 'game_data.csv'\n",
    "CSV_PATH = Path(GAME_DATA_PATH)"
   ]
  },
  {
   "cell_type": "markdown",
   "id": "2b8bd3eb",
   "metadata": {},
   "source": [
    "## Methods"
   ]
  },
  {
   "cell_type": "code",
   "execution_count": 4,
   "id": "ba6569b2",
   "metadata": {},
   "outputs": [],
   "source": [
    "# How to sample from the languages list\n",
    "def sample_with_repeat_rounds(arr, N):\n",
    "    if not arr:\n",
    "        return []\n",
    "    result = []\n",
    "    while len(result) < N:\n",
    "        remaining = N - len(result)\n",
    "        draw_count = min(remaining, len(arr))\n",
    "        new_samples = random.sample(arr, draw_count)\n",
    "        result.extend(new_samples)\n",
    "\n",
    "    return result\n",
    "\n",
    "# Count number of words in a string\n",
    "def count_words(text):\n",
    "    return len(text.split())\n",
    "\n",
    "# Request a sample from Mozilla's Common Voice\n",
    "def sample_common_voice(cv_code: str):\n",
    "    version = 15\n",
    "    try:\n",
    "        ds_stream = load_dataset(\n",
    "            f'mozilla-foundation/common_voice_{version}_0',\n",
    "            name = cv_code, \n",
    "            split = 'train',\n",
    "            streaming = True\n",
    "        )\n",
    "        ds_stream.cast_column('audio', HF_Audio(decode = True))\n",
    "        seed = random.randint(0, 2**32 - 1)\n",
    "        ds_shuffled = ds_stream.shuffle(buffer_size=2048, seed=seed)\n",
    "\n",
    "        samples = list(ds_shuffled.take(5))\n",
    "        for sample in samples:\n",
    "            if sample['audio']['array'].shape[0] >= 200000:\n",
    "                print(f'Loaded a sample from Common Voice dataset for {cv_code} that was long enough >:)')\n",
    "                return [sample]\n",
    "        print(f'Loaded a sample from Common Voice dataset for {cv_code} but it was too short :3')\n",
    "        return [samples[0]]\n",
    "        \n",
    "    except Exception as e:\n",
    "        print(f'Failed to sample from the Common Voice dataset:\\n{e}')\n",
    "        return []\n",
    "\n",
    "# Exploit Google Translate to translate this sentence (webscraping!)\n",
    "def translate(language, text):\n",
    "    \n",
    "    options = webdriver.ChromeOptions()\n",
    "    options.add_argument('--no-sandbox')\n",
    "    options.add_argument('--disable-dev-shm-usage')\n",
    "    options.add_argument('--disable-blink-features=AutomationControlled')\n",
    "    options.add_experimental_option(\"excludeSwitches\", [\"enable-automation\"])\n",
    "    options.add_experimental_option('useAutomationExtension', False)\n",
    "    driver = webdriver.Chrome(options=options)\n",
    "    driver.execute_script(\"Object.defineProperty(navigator, 'webdriver', {get: () => undefined})\")\n",
    "    \n",
    "    try:\n",
    "        # Navigate to Google Translate\n",
    "        driver.get(\"https://translate.google.com\")\n",
    "        wait = WebDriverWait(driver, 15)\n",
    "        actions = ActionChains(driver)\n",
    "        \n",
    "        # Wait for page to load\n",
    "        time.sleep(0.5)\n",
    "        \n",
    "        # Enter text (cursor should be ready in text area)\n",
    "        actions.send_keys(text).perform()\n",
    "        \n",
    "        # Find and click the target language button\n",
    "        target_lang_button = wait.until(EC.element_to_be_clickable((\n",
    "            By.CSS_SELECTOR, \n",
    "            \"button[aria-label*='target language'], .VfPpkd-Bz112c-RLmnJb\"\n",
    "        )))\n",
    "        target_lang_button.click()\n",
    "        \n",
    "        # Wait briefly for dropdown, then type language and press Enter\n",
    "        time.sleep(0.5)\n",
    "        actions.send_keys(language).perform()\n",
    "        time.sleep(0.5)\n",
    "        actions.send_keys(Keys.RETURN).perform()\n",
    "        \n",
    "        # Wait for translation and extract\n",
    "        time.sleep(0.5)\n",
    "        \n",
    "        # Extract translation\n",
    "        translation_selectors = [\n",
    "            \"span[jsname='W297wb']\",\n",
    "            \"span[lang]:not([lang='auto']):not([lang=''])\",\n",
    "            \".ryNqvb span\",\n",
    "            \".J0lOec span\"\n",
    "        ]\n",
    "        \n",
    "        for selector in translation_selectors:\n",
    "            try:\n",
    "                elements = driver.find_elements(By.CSS_SELECTOR, selector)\n",
    "                for element in elements:\n",
    "                    translated_text = element.text.strip()\n",
    "                    if translated_text and translated_text != text:\n",
    "                        print(f\"Translation found: {translated_text}\")\n",
    "                        return translated_text\n",
    "            except:\n",
    "                continue\n",
    "        return None\n",
    "        \n",
    "    except Exception as e:\n",
    "        print(f\"Error: {str(e)}\")\n",
    "        return None\n",
    "        \n",
    "    finally:\n",
    "        driver.quit()\n",
    "\n",
    "def find_espeak():\n",
    "    \"\"\"Return path to espeak-ng or espeak binary, raise if missing.\"\"\"\n",
    "    exe = shutil.which(\"espeak-ng\") or shutil.which(\"espeak\")\n",
    "    if exe is None:\n",
    "        raise FileNotFoundError(\"No espeak-ng/espeak binary on PATH\")\n",
    "    return exe\n",
    "\n",
    "def phonemize(text: str, lang: str = \"en\", ipa: bool = False,\n",
    "              ipa_level: int = 1, keep_stress: bool = True) -> str:\n",
    "    \"\"\"Phonemize text using eSpeak (NG)\"\"\"\n",
    "    try: \n",
    "        exe = find_espeak()\n",
    "\n",
    "        # Build the command line\n",
    "        args = [exe, \"-q\", f\"-v{lang}\"]\n",
    "        if ipa:\n",
    "            args.append(f\"--ipa={ipa_level}\")\n",
    "        else:\n",
    "            args.append(\"-x\")\n",
    "            if not keep_stress:\n",
    "                args.append(\"--sep=-\") # do this to strip stress marks later\n",
    "        args.append(text)\n",
    "\n",
    "        # Run the command\n",
    "        proc = subprocess.run(args, text = True, capture_output = True, check = True)\n",
    "        out = proc.stdout.strip()\n",
    "\n",
    "        if not keep_stress:\n",
    "            # eSpeak stress marks are the `'` characters; remove them\n",
    "            out = out.replace(\"ˈ\", \"\")\n",
    "\n",
    "        # Sometimes line breaks appear in the output; remove them\n",
    "        out = out.replace(\"\\n\", \" \").replace(\"\\r\", \" \").strip()\n",
    "\n",
    "        return out\n",
    "    \n",
    "    except Exception as e:\n",
    "        print(f\"Error getting IPA representation, enter manually: {str(e)}\")\n",
    "        return \"???\"\n",
    "    \n",
    "def get_row(chosen_language, day, languages_df):\n",
    "    # Get language data from languages dataframe\n",
    "    languages_row = languages_df[languages_df['espeak_code'] == chosen_language].iloc[0]\n",
    "    LANGUAGE = { \n",
    "        'ESPEAK_CODE': chosen_language,\n",
    "        'ENGLISH_NAME' : languages_row['english_name'], \n",
    "        'ISO' : languages_row['iso3'],  \n",
    "        'CV' : languages_row['cv_code'], \n",
    "        'ESPEAK' : languages_row['espeak_code'], \n",
    "        'LINEAGE' : eval(languages_row['lineage']), \n",
    "        'FAMILY_0' : languages_row['family_0'], \n",
    "        'FAMILY_1' : languages_row['family_1'], \n",
    "        'FAMILY_2' : languages_row['family_2']\n",
    "    }\n",
    "\n",
    "    print(f\"Generating an example for {LANGUAGE['ENGLISH_NAME']} ({LANGUAGE['ESPEAK_CODE']})\")\n",
    "\n",
    "    # Get a sample from that language\n",
    "    LANGUAGE['SAMPLE'] = sample_common_voice(LANGUAGE['CV'])\n",
    "    LANGUAGE['SAMPLE'][0]['sentence'] = LANGUAGE['SAMPLE'][0]['sentence'].replace('\\n', ' ')\n",
    "\n",
    "    # Try to translate it\n",
    "    try:\n",
    "        LANGUAGE['SAMPLE'][0]['translation'] = translate(LANGUAGE['ENGLISH_NAME'], LANGUAGE['SAMPLE'][0]['sentence'])\n",
    "    except Exception as e:\n",
    "        print(f'Failed to add translation, enter it manually:\\n{e}')\n",
    "        LANGUAGE['SAMPLE'][0]['translation'] = '???????'\n",
    "\n",
    "    # Extract audio data of sample\n",
    "    wave = LANGUAGE['SAMPLE'][0]['audio']['array']\n",
    "    rate = LANGUAGE['SAMPLE'][0]['audio']['sampling_rate']\n",
    "\n",
    "    # Convert to phonetics\n",
    "    LANGUAGE['SAMPLE'][0]['IPA'] = phonemize(text = LANGUAGE['SAMPLE'][0]['sentence'], lang = LANGUAGE['ESPEAK'], ipa = True, ipa_level = 1, keep_stress = False)\n",
    "\n",
    "    # Generate and store corresponding audio file\n",
    "    AUDIO_DIR = Path('assets/audio')\n",
    "    AUDIO_DIR.mkdir(exist_ok = True)\n",
    "    fname_base = f\"{day:%Y-%m-%d}\"\n",
    "    file_path = AUDIO_DIR / f\"{fname_base}.mp3\"\n",
    "    # muffled_file_path = AUDIO_DIR / f\"{fname_base}_muffled.mp3\"\n",
    "    # muffled_wave = sig.sosfiltfilt(sig.butter(1, 700, \"low\", fs = rate, output = \"sos\"),\n",
    "    #                          librosa.effects.pitch_shift(wave.astype(np.float32), sr = rate, n_steps = -2))\n",
    "    sf.write(file_path, wave, rate, format='MP3')\n",
    "    # sf.write(muffled_file_path, muffled_wave, rate, format='WAV')\n",
    "\n",
    "    # build a new row based on the generated LANGUAGE dict from above\n",
    "    new_row = { 'date': day,\n",
    "                'language': LANGUAGE['ENGLISH_NAME'],\n",
    "                'iso': LANGUAGE['ISO'],\n",
    "                'cv_code': LANGUAGE['CV'],\n",
    "                'espeak_code': LANGUAGE['ESPEAK'],\n",
    "                'lineage': LANGUAGE['LINEAGE'],\n",
    "                'family_0': LANGUAGE['FAMILY_0'],\n",
    "                'family_1': LANGUAGE['FAMILY_1'],\n",
    "                'family_2': LANGUAGE['FAMILY_2'],\n",
    "                'sentence': LANGUAGE['SAMPLE'][0]['sentence'],\n",
    "                'translation': LANGUAGE['SAMPLE'][0]['translation'],\n",
    "                'wave': file_path.name,\n",
    "                # 'muffled_wave': muffled_file_path.name,\n",
    "                'sampling_rate': LANGUAGE['SAMPLE'][0]['audio']['sampling_rate'],\n",
    "                'IPA': LANGUAGE['SAMPLE'][0]['IPA']\n",
    "    }\n",
    "\n",
    "    return new_row\n",
    "    \n",
    "def fill_day(chosen_language, day, languages_df, game_df, CSV_PATH):\n",
    "    new_row = get_row(chosen_language, day, languages_df)\n",
    "    # ensure any new columns are present in the dataframe\n",
    "    missing_cols = set(new_row) - set(game_df.columns)\n",
    "    for c in missing_cols:\n",
    "        game_df[c] = pd.NA # create blank column for any new field\n",
    "\n",
    "    # append and reset the index\n",
    "    game_df = pd.concat([game_df, pd.DataFrame([new_row])], ignore_index = True)\n",
    "\n",
    "    # store into the game_df\n",
    "    game_df.to_csv(CSV_PATH, index = False)\n",
    "\n",
    "    print(f\"Filled {day:%Y-%m-%d} with {new_row['language']}\\n\")\n",
    "    \n",
    "\n",
    "def replace_day(chosen_language, day, languages_df, game_df, CSV_PATH):\n",
    "    # Find index for matching date\n",
    "    datetime_object = datetime.strptime(day, \"%Y-%m-%d\").date()\n",
    "    mask = game_df['date'] == datetime_object\n",
    "    hits = mask.sum()\n",
    "    if hits == 0:\n",
    "        raise KeyError(f\"No row found with date {day}\")\n",
    "    if hits > 1:\n",
    "        raise KeyError(f\"Expected one row with date {day}, found {hits}\")\n",
    "    \n",
    "    new_row = get_row(chosen_language, datetime_object, languages_df)\n",
    "    pd_new_row = (pd.Series(new_row).reindex(game_df.columns, fill_value=pd.NA))\n",
    "    \n",
    "    idx = game_df.index[mask][0]\n",
    "    game_df.loc[idx] = pd_new_row\n",
    "\n",
    "    # store into the game_df\n",
    "    game_df.to_csv(CSV_PATH, index = False)\n",
    "\n",
    "    print(f\"Replaced {day} with {new_row['language']}\")"
   ]
  },
  {
   "cell_type": "markdown",
   "id": "c074ab8b",
   "metadata": {},
   "source": [
    "## Batch Generator"
   ]
  },
  {
   "cell_type": "code",
   "execution_count": 5,
   "id": "b6e4e2c6",
   "metadata": {},
   "outputs": [
    {
     "name": "stdout",
     "output_type": "stream",
     "text": [
      "Generating an example for Greek (el)\n"
     ]
    },
    {
     "name": "stderr",
     "output_type": "stream",
     "text": [
      "Reading metadata...: 1913it [00:00, 15457.96it/s]\n"
     ]
    },
    {
     "name": "stdout",
     "output_type": "stream",
     "text": [
      "Loaded a sample from Common Voice dataset for el that was long enough >:)\n",
      "Translation found: and placed it in front of them, on an iron pan.\n",
      "Filled 2025-07-20 with Greek\n",
      "\n",
      "Generating an example for French (fr-fr)\n"
     ]
    },
    {
     "name": "stderr",
     "output_type": "stream",
     "text": [
      "Reading metadata...: 527554it [00:16, 32828.48it/s]\n"
     ]
    },
    {
     "name": "stdout",
     "output_type": "stream",
     "text": [
      "Loaded a sample from Common Voice dataset for fr that was long enough >:)\n",
      "Translation found: Do you want me for your husband?\n",
      "Filled 2025-07-21 with French\n",
      "\n",
      "Generating an example for Russian (ru)\n"
     ]
    },
    {
     "name": "stderr",
     "output_type": "stream",
     "text": [
      "Reading metadata...: 26328it [00:01, 23028.98it/s]\n"
     ]
    },
    {
     "name": "stdout",
     "output_type": "stream",
     "text": [
      "Loaded a sample from Common Voice dataset for ru that was long enough >:)\n",
      "Translation found: I bought paint to paint the balcony, and they painted the doors in the kitchen.\n",
      "Filled 2025-07-22 with Russian\n",
      "\n",
      "Generating an example for Slovak (sk)\n"
     ]
    },
    {
     "name": "stderr",
     "output_type": "stream",
     "text": [
      "Reading metadata...: 3276it [00:00, 19038.44it/s]\n"
     ]
    },
    {
     "name": "stdout",
     "output_type": "stream",
     "text": [
      "Loaded a sample from Common Voice dataset for sk that was long enough >:)\n",
      "Translation found: patent owner;\n",
      "Filled 2025-07-23 with Slovak\n",
      "\n",
      "Generating an example for Vietnamese (vi-sgn)\n"
     ]
    },
    {
     "name": "stderr",
     "output_type": "stream",
     "text": [
      "Reading metadata...: 2383it [00:00, 26607.21it/s]\n"
     ]
    },
    {
     "name": "stdout",
     "output_type": "stream",
     "text": [
      "Loaded a sample from Common Voice dataset for vi that was long enough >:)\n",
      "Translation found: Only then did I remember what Thao said last night.\n",
      "Filled 2025-07-24 with Vietnamese\n",
      "\n",
      "Generating an example for Indonesian (id)\n"
     ]
    },
    {
     "name": "stderr",
     "output_type": "stream",
     "text": [
      "Reading metadata...: 4968it [00:00, 29922.87it/s]\n"
     ]
    },
    {
     "name": "stdout",
     "output_type": "stream",
     "text": [
      "Loaded a sample from Common Voice dataset for id that was long enough >:)\n",
      "Translation found: Everyone is registered by year of birth and grouped into generations.\n",
      "Filled 2025-07-25 with Indonesian\n",
      "\n",
      "Generating an example for Serbian (sr)\n"
     ]
    },
    {
     "name": "stderr",
     "output_type": "stream",
     "text": [
      "Reading metadata...: 1521it [00:00, 17063.24it/s]\n"
     ]
    },
    {
     "name": "stdout",
     "output_type": "stream",
     "text": [
      "Loaded a sample from Common Voice dataset for sr but it was too short :3\n",
      "Translation found: All right!\n",
      "Filled 2025-07-26 with Serbian\n",
      "\n",
      "Generating an example for Hungarian (hu)\n"
     ]
    },
    {
     "name": "stderr",
     "output_type": "stream",
     "text": [
      "Reading metadata...: 34498it [00:01, 27720.10it/s]\n"
     ]
    },
    {
     "name": "stdout",
     "output_type": "stream",
     "text": [
      "Loaded a sample from Common Voice dataset for hu that was long enough >:)\n",
      "Translation found: The next day, Cécile refuses to let anyone into her room.\n",
      "Filled 2025-07-27 with Hungarian\n",
      "\n",
      "Generating an example for Malayalam (ml)\n"
     ]
    },
    {
     "name": "stderr",
     "output_type": "stream",
     "text": [
      "Reading metadata...: 1249it [00:00, 14696.05it/s]\n"
     ]
    },
    {
     "name": "stdout",
     "output_type": "stream",
     "text": [
      "Loaded a sample from Common Voice dataset for ml that was long enough >:)\n",
      "Translation found: Cases will pile up and things will get to the point where healthcare systems cannot handle it.\n",
      "Filled 2025-07-28 with Malayalam\n",
      "\n",
      "Generating an example for Polish (pl)\n"
     ]
    },
    {
     "name": "stderr",
     "output_type": "stream",
     "text": [
      "Reading metadata...: 19119it [00:00, 30675.55it/s]\n"
     ]
    },
    {
     "name": "stdout",
     "output_type": "stream",
     "text": [
      "Loaded a sample from Common Voice dataset for pl that was long enough >:)\n",
      "Translation found: The draft resolution in question is in line with this\n",
      "Filled 2025-07-29 with Polish\n",
      "\n",
      "Generating an example for Czech (cs)\n"
     ]
    },
    {
     "name": "stderr",
     "output_type": "stream",
     "text": [
      "Reading metadata...: 19358it [00:00, 24244.38it/s]\n"
     ]
    },
    {
     "name": "stdout",
     "output_type": "stream",
     "text": [
      "Loaded a sample from Common Voice dataset for cs that was long enough >:)\n",
      "Translation found: He was already a member of student organizations during his studies.\n",
      "Filled 2025-07-30 with Czech\n",
      "\n",
      "Generating an example for Nepali (ne)\n"
     ]
    },
    {
     "name": "stderr",
     "output_type": "stream",
     "text": [
      "Reading metadata...: 194it [00:00, 4351.54it/s]\n"
     ]
    },
    {
     "name": "stdout",
     "output_type": "stream",
     "text": [
      "Loaded a sample from Common Voice dataset for ne-NP that was long enough >:)\n",
      "Translation found: The by-road is winding and winding.\n",
      "Filled 2025-07-31 with Nepali\n",
      "\n",
      "Generating an example for Icelandic (is)\n"
     ]
    },
    {
     "name": "stderr",
     "output_type": "stream",
     "text": [
      "Reading metadata...: 8it [00:00, 150.40it/s]\n"
     ]
    },
    {
     "name": "stdout",
     "output_type": "stream",
     "text": [
      "Loaded a sample from Common Voice dataset for is that was long enough >:)\n",
      "Translation found: The playing season is from late May to mid-September.\n",
      "Filled 2025-08-01 with Icelandic\n",
      "\n",
      "Generating an example for Estonian (et)\n"
     ]
    },
    {
     "name": "stderr",
     "output_type": "stream",
     "text": [
      "Reading metadata...: 3148it [00:00, 13920.08it/s]\n"
     ]
    },
    {
     "name": "stdout",
     "output_type": "stream",
     "text": [
      "Loaded a sample from Common Voice dataset for et that was long enough >:)\n",
      "Translation found: The latter gives a youthful and sophisticated appearance, which women really like.\n",
      "Filled 2025-08-02 with Estonian\n",
      "\n",
      "Generating an example for French (fr-be)\n"
     ]
    },
    {
     "name": "stderr",
     "output_type": "stream",
     "text": [
      "Reading metadata...: 527554it [00:13, 38405.34it/s]\n"
     ]
    },
    {
     "name": "stdout",
     "output_type": "stream",
     "text": [
      "Loaded a sample from Common Voice dataset for fr that was long enough >:)\n",
      "Translation found: His mother Olga Davidovna Petrenko, née Weintraub, is a musicologist.\n",
      "Filled 2025-08-03 with French\n",
      "\n",
      "Generating an example for Portuguese (pt-br)\n"
     ]
    },
    {
     "name": "stderr",
     "output_type": "stream",
     "text": [
      "Reading metadata...: 21202it [00:00, 29984.07it/s]\n"
     ]
    },
    {
     "name": "stdout",
     "output_type": "stream",
     "text": [
      "Loaded a sample from Common Voice dataset for pt that was long enough >:)\n",
      "Translation found: Certifications will be issued with the approval of the President.\n",
      "Filled 2025-08-04 with Portuguese\n",
      "\n",
      "Generating an example for Swedish (sv)\n"
     ]
    },
    {
     "name": "stderr",
     "output_type": "stream",
     "text": [
      "Reading metadata...: 7584it [00:00, 28357.02it/s]\n"
     ]
    },
    {
     "name": "stdout",
     "output_type": "stream",
     "text": [
      "Loaded a sample from Common Voice dataset for sv-SE that was long enough >:)\n",
      "Translation found: The large, high window looked out onto the city and the sea.\n",
      "Filled 2025-08-05 with Swedish\n",
      "\n",
      "Generating an example for German (de)\n"
     ]
    },
    {
     "name": "stderr",
     "output_type": "stream",
     "text": [
      "Reading metadata...: 567993it [00:16, 33930.18it/s]\n"
     ]
    },
    {
     "name": "stdout",
     "output_type": "stream",
     "text": [
      "Loaded a sample from Common Voice dataset for de that was long enough >:)\n",
      "Translation found: This was completed by his son-in-law Georges Bizet.\n",
      "Filled 2025-08-06 with German\n",
      "\n",
      "Generating an example for Cantonese (zh-yue)\n"
     ]
    },
    {
     "name": "stderr",
     "output_type": "stream",
     "text": [
      "Reading metadata...: 3074it [00:00, 21305.06it/s]\n"
     ]
    },
    {
     "name": "stdout",
     "output_type": "stream",
     "text": [
      "Loaded a sample from Common Voice dataset for yue that was long enough >:)\n",
      "Translation found: A good night’s sleep makes the excellent you, better than the weekdays\n",
      "Filled 2025-08-07 with Cantonese\n",
      "\n",
      "Generating an example for Spanish (es)\n"
     ]
    },
    {
     "name": "stderr",
     "output_type": "stream",
     "text": [
      "Reading metadata...: 311392it [00:10, 31002.45it/s]\n"
     ]
    },
    {
     "name": "stdout",
     "output_type": "stream",
     "text": [
      "Loaded a sample from Common Voice dataset for es that was long enough >:)\n",
      "Translation found: Until then, the Jacobite forces had encountered almost negligible resistance.\n",
      "Filled 2025-08-08 with Spanish\n",
      "\n",
      "Generating an example for Irish (ga)\n"
     ]
    },
    {
     "name": "stderr",
     "output_type": "stream",
     "text": [
      "Reading metadata...: 536it [00:00, 6540.81it/s]\n"
     ]
    },
    {
     "name": "stdout",
     "output_type": "stream",
     "text": [
      "Loaded a sample from Common Voice dataset for ga-IE that was long enough >:)\n",
      "Translation found: There's no sore throat like your own sore throat.\n",
      "Filled 2025-08-09 with Irish\n",
      "\n",
      "Generating an example for Vietnamese (vi)\n"
     ]
    },
    {
     "name": "stderr",
     "output_type": "stream",
     "text": [
      "Reading metadata...: 2383it [00:00, 5045.75it/s]\n"
     ]
    },
    {
     "name": "stdout",
     "output_type": "stream",
     "text": [
      "Loaded a sample from Common Voice dataset for vi that was long enough >:)\n",
      "Translation found: Time goes by endlessly\n",
      "Filled 2025-08-10 with Vietnamese\n",
      "\n",
      "Generating an example for Albanian (sq)\n"
     ]
    },
    {
     "name": "stderr",
     "output_type": "stream",
     "text": [
      "Reading metadata...: 494it [00:00, 6185.51it/s]\n"
     ]
    },
    {
     "name": "stdout",
     "output_type": "stream",
     "text": [
      "Loaded a sample from Common Voice dataset for sq that was long enough >:)\n",
      "Translation found: Macedonian Prime Minister visits Dublin.\n",
      "Filled 2025-08-11 with Albanian\n",
      "\n",
      "Generating an example for Tamil (ta)\n"
     ]
    },
    {
     "name": "stderr",
     "output_type": "stream",
     "text": [
      "Reading metadata...: 44044it [00:01, 30159.01it/s]\n"
     ]
    },
    {
     "name": "stdout",
     "output_type": "stream",
     "text": [
      "Loaded a sample from Common Voice dataset for ta that was long enough >:)\n",
      "Translation found: They showed him to the doctor, fearing that he would have another attack like this.\n",
      "Filled 2025-08-12 with Tamil\n",
      "\n",
      "Generating an example for Danish (da)\n"
     ]
    },
    {
     "name": "stderr",
     "output_type": "stream",
     "text": [
      "Reading metadata...: 3381it [00:00, 17339.25it/s]\n"
     ]
    },
    {
     "name": "stdout",
     "output_type": "stream",
     "text": [
      "Loaded a sample from Common Voice dataset for da that was long enough >:)\n",
      "Translation found: said the queen, something that is profound and instructive!\n",
      "Filled 2025-08-13 with Danish\n",
      "\n",
      "Generating an example for Swahili (sw)\n"
     ]
    },
    {
     "name": "stderr",
     "output_type": "stream",
     "text": [
      "Reading metadata...: 44075it [00:01, 23064.29it/s]\n"
     ]
    },
    {
     "name": "stdout",
     "output_type": "stream",
     "text": [
      "Loaded a sample from Common Voice dataset for sw that was long enough >:)\n",
      "Translation found: that helped the country eliminate the friction of\n",
      "Filled 2025-08-14 with Swahili\n",
      "\n",
      "Generating an example for Armenian (hy)\n"
     ]
    },
    {
     "name": "stderr",
     "output_type": "stream",
     "text": [
      "Reading metadata...: 651it [00:00, 9543.50it/s]\n"
     ]
    },
    {
     "name": "stdout",
     "output_type": "stream",
     "text": [
      "Loaded a sample from Common Voice dataset for hy-AM that was long enough >:)\n",
      "Translation found: As a radio operator, she fights for her love at sea and wins.\n",
      "Filled 2025-08-15 with Armenian\n",
      "\n",
      "Generating an example for Bulgarian (bg)\n"
     ]
    },
    {
     "name": "stderr",
     "output_type": "stream",
     "text": [
      "Reading metadata...: 3413it [00:00, 23593.21it/s]\n"
     ]
    },
    {
     "name": "stdout",
     "output_type": "stream",
     "text": [
      "Loaded a sample from Common Voice dataset for bg that was long enough >:)\n",
      "Translation found: The leader's body was quickly carried away.\n",
      "Filled 2025-08-16 with Bulgarian\n",
      "\n",
      "Generating an example for Dutch (nl)\n"
     ]
    },
    {
     "name": "stderr",
     "output_type": "stream",
     "text": [
      "Reading metadata...: 34088it [00:01, 25722.40it/s]\n"
     ]
    },
    {
     "name": "stdout",
     "output_type": "stream",
     "text": [
      "Loaded a sample from Common Voice dataset for nl that was long enough >:)\n",
      "Translation found: The types of measures are increasing and the number of actors is also growing.\n",
      "Filled 2025-08-17 with Dutch\n",
      "\n",
      "Generating an example for Macedonian (mk)\n"
     ]
    },
    {
     "name": "stderr",
     "output_type": "stream",
     "text": [
      "Reading metadata...: 67it [00:00, 1265.47it/s]\n"
     ]
    },
    {
     "name": "stdout",
     "output_type": "stream",
     "text": [
      "Loaded a sample from Common Voice dataset for mk that was long enough >:)\n",
      "Translation found: It was not clear who had the right of way, because the traffic lights were not working.\n",
      "Filled 2025-08-18 with Macedonian\n",
      "\n",
      "Generating an example for Romanian (ro)\n"
     ]
    },
    {
     "name": "stderr",
     "output_type": "stream",
     "text": [
      "Reading metadata...: 5172it [00:00, 26059.62it/s]\n"
     ]
    },
    {
     "name": "stdout",
     "output_type": "stream",
     "text": [
      "Loaded a sample from Common Voice dataset for ro that was long enough >:)\n",
      "Translation found: Young people are not the only problematic category.\n",
      "Filled 2025-08-19 with Romanian\n",
      "\n",
      "Generating an example for Portuguese (pt-pt)\n"
     ]
    },
    {
     "name": "stderr",
     "output_type": "stream",
     "text": [
      "Reading metadata...: 21202it [00:00, 32834.66it/s]\n"
     ]
    },
    {
     "name": "stdout",
     "output_type": "stream",
     "text": [
      "Loaded a sample from Common Voice dataset for pt that was long enough >:)\n",
      "Translation found: Language support for languages in India has improved in recent months.\n",
      "Filled 2025-08-20 with Portuguese\n",
      "\n",
      "Generating an example for Mandarin (zh)\n"
     ]
    },
    {
     "name": "stderr",
     "output_type": "stream",
     "text": [
      "Reading metadata...: 7048it [00:00, 33770.32it/s]\n"
     ]
    },
    {
     "name": "stdout",
     "output_type": "stream",
     "text": [
      "Loaded a sample from Common Voice dataset for zh-TW that was long enough >:)\n",
      "Translation found: Isn’t computerization being promoted now?\n",
      "Filled 2025-08-21 with Mandarin\n",
      "\n",
      "Generating an example for Finnish (fi)\n"
     ]
    },
    {
     "name": "stderr",
     "output_type": "stream",
     "text": [
      "Reading metadata...: 2148it [00:00, 16895.67it/s]\n"
     ]
    },
    {
     "name": "stdout",
     "output_type": "stream",
     "text": [
      "Loaded a sample from Common Voice dataset for fi that was long enough >:)\n",
      "Translation found: After about half an hour, she came back out the door looking very disappointed.\n",
      "Filled 2025-08-22 with Finnish\n",
      "\n",
      "Generating an example for Lithuanian (lt)\n"
     ]
    },
    {
     "name": "stderr",
     "output_type": "stream",
     "text": [
      "Reading metadata...: 6715it [00:00, 27929.11it/s]\n"
     ]
    },
    {
     "name": "stdout",
     "output_type": "stream",
     "text": [
      "Loaded a sample from Common Voice dataset for lt that was long enough >:)\n",
      "Translation found: The tower now houses a book museum.\n",
      "Filled 2025-08-23 with Lithuanian\n",
      "\n",
      "Generating an example for Spanish (es-la)\n"
     ]
    },
    {
     "name": "stderr",
     "output_type": "stream",
     "text": [
      "Reading metadata...: 311392it [00:11, 28168.59it/s]\n"
     ]
    },
    {
     "name": "stdout",
     "output_type": "stream",
     "text": [
      "Loaded a sample from Common Voice dataset for es that was long enough >:)\n",
      "Translation found: Thus, stations, bus stops, and the signaling system completed their final day.\n",
      "Filled 2025-08-24 with Spanish\n",
      "\n",
      "Generating an example for Hindi (hi)\n"
     ]
    },
    {
     "name": "stderr",
     "output_type": "stream",
     "text": [
      "Reading metadata...: 4630it [00:00, 12370.91it/s]\n"
     ]
    },
    {
     "name": "stdout",
     "output_type": "stream",
     "text": [
      "Loaded a sample from Common Voice dataset for hi that was long enough >:)\n",
      "Translation found: Will the Gondwana Ganatantra Party become a major force in Jaisinghnagar Assembly?\n",
      "Filled 2025-08-25 with Hindi\n",
      "\n",
      "Generating an example for Italian (it)\n"
     ]
    },
    {
     "name": "stderr",
     "output_type": "stream",
     "text": [
      "Reading metadata...: 166503it [00:09, 17233.20it/s]\n"
     ]
    },
    {
     "name": "stdout",
     "output_type": "stream",
     "text": [
      "Loaded a sample from Common Voice dataset for it that was long enough >:)\n",
      "Translation found: His main interest, however, remained poetry.\n",
      "Filled 2025-08-26 with Italian\n",
      "\n",
      "Generating an example for Georgian (ka)\n"
     ]
    },
    {
     "name": "stderr",
     "output_type": "stream",
     "text": [
      "Reading metadata...: 39326it [00:03, 11419.22it/s]\n"
     ]
    },
    {
     "name": "stdout",
     "output_type": "stream",
     "text": [
      "Loaded a sample from Common Voice dataset for ka that was long enough >:)\n",
      "Translation found: It was mandatory for students to complete a summer internship.\n",
      "Filled 2025-08-27 with Georgian\n",
      "\n",
      "Generating an example for Persian (fa)\n"
     ]
    },
    {
     "name": "stderr",
     "output_type": "stream",
     "text": [
      "Reading metadata...: 28756it [00:01, 17246.46it/s]\n"
     ]
    },
    {
     "name": "stdout",
     "output_type": "stream",
     "text": [
      "Loaded a sample from Common Voice dataset for fa that was long enough >:)\n",
      "Translation found: Months ago I decided to take action.\n",
      "Filled 2025-08-28 with Persian\n",
      "\n",
      "Generating an example for Armenian (hy-west)\n"
     ]
    },
    {
     "name": "stderr",
     "output_type": "stream",
     "text": [
      "Reading metadata...: 651it [00:00, 6932.98it/s]\n"
     ]
    },
    {
     "name": "stdout",
     "output_type": "stream",
     "text": [
      "Loaded a sample from Common Voice dataset for hy-AM that was long enough >:)\n",
      "Translation found: He is fluent in Armenian, Russian, English, and French.\n",
      "Filled 2025-08-29 with Armenian\n",
      "\n",
      "Generating an example for Vietnamese (vi-hue)\n"
     ]
    },
    {
     "name": "stderr",
     "output_type": "stream",
     "text": [
      "Reading metadata...: 2383it [00:00, 16963.90it/s]\n"
     ]
    },
    {
     "name": "stdout",
     "output_type": "stream",
     "text": [
      "Loaded a sample from Common Voice dataset for vi that was long enough >:)\n",
      "Translation found: And remember, don't let the wild sunflowers out of your hands.\n",
      "Filled 2025-08-30 with Vietnamese\n",
      "\n",
      "Generating an example for Punjabi (pa)\n"
     ]
    },
    {
     "name": "stderr",
     "output_type": "stream",
     "text": [
      "Reading metadata...: 728it [00:00, 5748.21it/s]\n"
     ]
    },
    {
     "name": "stdout",
     "output_type": "stream",
     "text": [
      "Loaded a sample from Common Voice dataset for pa-IN that was long enough >:)\n",
      "Translation found: Muslims, Christians and Parsis have their own acts.\n",
      "Filled 2025-08-31 with Punjabi\n",
      "\n",
      "Generating an example for Welsh (cy)\n"
     ]
    },
    {
     "name": "stderr",
     "output_type": "stream",
     "text": [
      "Reading metadata...: 7871it [00:00, 13423.88it/s]\n"
     ]
    },
    {
     "name": "stdout",
     "output_type": "stream",
     "text": [
      "Loaded a sample from Common Voice dataset for cy that was long enough >:)\n",
      "Translation found: He was also a conservative trade unionist.\n",
      "Filled 2025-09-01 with Welsh\n",
      "\n",
      "Generating an example for Catalan (ca)\n"
     ]
    },
    {
     "name": "stderr",
     "output_type": "stream",
     "text": [
      "Reading metadata...: 1142607it [00:48, 23609.60it/s]\n"
     ]
    },
    {
     "name": "stdout",
     "output_type": "stream",
     "text": [
      "Loaded a sample from Common Voice dataset for ca that was long enough >:)\n",
      "Translation found: Tomorrow Dan and Roc will go to Torrebesses.\n",
      "Filled 2025-09-02 with Catalan\n",
      "\n",
      "Generating an example for Turkish (tr)\n"
     ]
    },
    {
     "name": "stderr",
     "output_type": "stream",
     "text": [
      "Reading metadata...: 31465it [00:01, 18064.71it/s]\n"
     ]
    },
    {
     "name": "stdout",
     "output_type": "stream",
     "text": [
      "Loaded a sample from Common Voice dataset for tr that was long enough >:)\n",
      "Translation found: Three days later, the ventilator was removed and Lamba was declared dead.\n",
      "Filled 2025-09-03 with Turkish\n",
      "\n",
      "Generating an example for Esperanto (eo)\n"
     ]
    },
    {
     "name": "stderr",
     "output_type": "stream",
     "text": [
      "Reading metadata...: 144070it [00:04, 33819.53it/s]\n"
     ]
    },
    {
     "name": "stdout",
     "output_type": "stream",
     "text": [
      "Loaded a sample from Common Voice dataset for eo that was long enough >:)\n",
      "Translation found: He was the first to dare to lay a hand on me, and we fought savagely.\n",
      "Filled 2025-09-04 with Esperanto\n",
      "\n",
      "Generating an example for Latvian (lv)\n"
     ]
    },
    {
     "name": "stderr",
     "output_type": "stream",
     "text": [
      "Reading metadata...: 3157it [00:00, 19090.17it/s]\n"
     ]
    },
    {
     "name": "stdout",
     "output_type": "stream",
     "text": [
      "Loaded a sample from Common Voice dataset for lv that was long enough >:)\n",
      "Translation found: Speaking of finesse, this is an expensive restaurant.\n",
      "Filled 2025-09-05 with Latvian\n",
      "\n",
      "Generating an example for Afrikaans (af)\n"
     ]
    },
    {
     "name": "stderr",
     "output_type": "stream",
     "text": [
      "Reading metadata...: 15it [00:00, 167.18it/s]\n"
     ]
    },
    {
     "name": "stdout",
     "output_type": "stream",
     "text": [
      "Loaded a sample from Common Voice dataset for af that was long enough >:)\n",
      "Translation found: There are some differences in the format of the volume and page numbers.\n",
      "Filled 2025-09-06 with Afrikaans\n",
      "\n",
      "Generating an example for Persian (fa-pin)\n"
     ]
    },
    {
     "name": "stderr",
     "output_type": "stream",
     "text": [
      "Reading metadata...: 28756it [00:01, 17599.01it/s]\n"
     ]
    },
    {
     "name": "stdout",
     "output_type": "stream",
     "text": [
      "Loaded a sample from Common Voice dataset for fa that was long enough >:)\n",
      "Translation found: She should not put all her inventory up for sale.\n",
      "Filled 2025-09-07 with Persian\n",
      "\n",
      "Generating an example for Polish (pl)\n"
     ]
    },
    {
     "name": "stderr",
     "output_type": "stream",
     "text": [
      "Reading metadata...: 19119it [00:00, 25201.01it/s]\n"
     ]
    },
    {
     "name": "stdout",
     "output_type": "stream",
     "text": [
      "Loaded a sample from Common Voice dataset for pl that was long enough >:)\n",
      "Translation found: It contributed to opening a new chapter in the process of building the European Union.\n",
      "Filled 2025-09-08 with Polish\n",
      "\n",
      "Generating an example for Portuguese (pt-pt)\n"
     ]
    },
    {
     "name": "stderr",
     "output_type": "stream",
     "text": [
      "Reading metadata...: 21202it [00:00, 26043.89it/s]\n"
     ]
    },
    {
     "name": "stdout",
     "output_type": "stream",
     "text": [
      "Loaded a sample from Common Voice dataset for pt that was long enough >:)\n",
      "Translation found: Woman listening to music player while smoking a cigarette.\n",
      "Filled 2025-09-09 with Portuguese\n",
      "\n",
      "Generating an example for Armenian (hy)\n"
     ]
    },
    {
     "name": "stderr",
     "output_type": "stream",
     "text": [
      "Reading metadata...: 651it [00:00, 3138.98it/s]\n"
     ]
    },
    {
     "name": "stdout",
     "output_type": "stream",
     "text": [
      "Loaded a sample from Common Voice dataset for hy-AM that was long enough >:)\n",
      "Translation found: He was one of the best performers of the classical repertoire.\n",
      "Filled 2025-09-10 with Armenian\n",
      "\n",
      "Generating an example for Dutch (nl)\n"
     ]
    },
    {
     "name": "stderr",
     "output_type": "stream",
     "text": [
      "Reading metadata...: 34088it [00:01, 26841.01it/s]\n"
     ]
    },
    {
     "name": "stdout",
     "output_type": "stream",
     "text": [
      "Loaded a sample from Common Voice dataset for nl that was long enough >:)\n",
      "Translation found: Everything that has been said about this can be summed up in one word: tear it down.\n",
      "Filled 2025-09-11 with Dutch\n",
      "\n",
      "Generating an example for Czech (cs)\n"
     ]
    },
    {
     "name": "stderr",
     "output_type": "stream",
     "text": [
      "Reading metadata...: 19358it [00:00, 33475.84it/s]\n"
     ]
    },
    {
     "name": "stdout",
     "output_type": "stream",
     "text": [
      "Loaded a sample from Common Voice dataset for cs that was long enough >:)\n",
      "Translation found: Most species grow in Indochina and Madagascar.\n",
      "Filled 2025-09-12 with Czech\n",
      "\n",
      "Generating an example for Serbian (sr)\n"
     ]
    },
    {
     "name": "stderr",
     "output_type": "stream",
     "text": [
      "Reading metadata...: 1521it [00:00, 14509.33it/s]\n"
     ]
    },
    {
     "name": "stdout",
     "output_type": "stream",
     "text": [
      "Loaded a sample from Common Voice dataset for sr but it was too short :3\n",
      "Translation found: Who can't?\n",
      "Filled 2025-09-13 with Serbian\n",
      "\n",
      "Generating an example for Catalan (ca)\n"
     ]
    },
    {
     "name": "stderr",
     "output_type": "stream",
     "text": [
      "Reading metadata...: 1142607it [00:23, 48908.90it/s]\n"
     ]
    },
    {
     "name": "stdout",
     "output_type": "stream",
     "text": [
      "Loaded a sample from Common Voice dataset for ca that was long enough >:)\n",
      "Translation found: For Sant Jordi, Roc and Garbí want to go visit my uncle.\n",
      "Filled 2025-09-14 with Catalan\n",
      "\n",
      "Generating an example for Swedish (sv)\n"
     ]
    },
    {
     "name": "stderr",
     "output_type": "stream",
     "text": [
      "Reading metadata...: 7584it [00:00, 16981.68it/s]\n"
     ]
    },
    {
     "name": "stdout",
     "output_type": "stream",
     "text": [
      "Loaded a sample from Common Voice dataset for sv-SE but it was too short :3\n",
      "Translation found: I borrowed it from a guy.\n",
      "Filled 2025-09-15 with Swedish\n",
      "\n",
      "Generating an example for Swahili (sw)\n"
     ]
    },
    {
     "name": "stderr",
     "output_type": "stream",
     "text": [
      "Reading metadata...: 44075it [00:02, 20887.55it/s]\n"
     ]
    },
    {
     "name": "stdout",
     "output_type": "stream",
     "text": [
      "Loaded a sample from Common Voice dataset for sw that was long enough >:)\n",
      "Translation found: Good leadership is very important in many African countries.\n",
      "Filled 2025-09-16 with Swahili\n",
      "\n",
      "Generating an example for Danish (da)\n"
     ]
    },
    {
     "name": "stderr",
     "output_type": "stream",
     "text": [
      "Reading metadata...: 3381it [00:00, 21336.21it/s]\n"
     ]
    },
    {
     "name": "stdout",
     "output_type": "stream",
     "text": [
      "Loaded a sample from Common Voice dataset for da that was long enough >:)\n",
      "Translation found: Timber made from spruce can have good strength for many years\n",
      "Filled 2025-09-17 with Danish\n",
      "\n",
      "Generating an example for Persian (fa-pin)\n"
     ]
    },
    {
     "name": "stderr",
     "output_type": "stream",
     "text": [
      "Reading metadata...: 28756it [00:01, 22177.90it/s]\n"
     ]
    },
    {
     "name": "stdout",
     "output_type": "stream",
     "text": [
      "Loaded a sample from Common Voice dataset for fa that was long enough >:)\n",
      "Translation found: Color cannot be felt by touch.\n",
      "Filled 2025-09-18 with Persian\n",
      "\n",
      "Generating an example for Macedonian (mk)\n"
     ]
    },
    {
     "name": "stderr",
     "output_type": "stream",
     "text": [
      "Reading metadata...: 67it [00:00, 1310.23it/s]\n"
     ]
    },
    {
     "name": "stdout",
     "output_type": "stream",
     "text": [
      "Loaded a sample from Common Voice dataset for mk that was long enough >:)\n",
      "Translation found: Some new force was chasing me down the steep street.\n",
      "Filled 2025-09-19 with Macedonian\n",
      "\n",
      "Generating an example for Italian (it)\n"
     ]
    },
    {
     "name": "stderr",
     "output_type": "stream",
     "text": [
      "Reading metadata...: 166503it [00:03, 54461.94it/s]\n"
     ]
    },
    {
     "name": "stdout",
     "output_type": "stream",
     "text": [
      "Loaded a sample from Common Voice dataset for it that was long enough >:)\n",
      "Translation found: Poirot then suggests holding a séance, and the others reluctantly agree.\n",
      "Filled 2025-09-20 with Italian\n",
      "\n",
      "Generating an example for Slovak (sk)\n"
     ]
    },
    {
     "name": "stderr",
     "output_type": "stream",
     "text": [
      "Reading metadata...: 3276it [00:00, 20176.15it/s]\n"
     ]
    },
    {
     "name": "stdout",
     "output_type": "stream",
     "text": [
      "Loaded a sample from Common Voice dataset for sk but it was too short :3\n",
      "Translation found: disagreement\n",
      "Filled 2025-09-21 with Slovak\n",
      "\n",
      "Generating an example for Bulgarian (bg)\n"
     ]
    },
    {
     "name": "stderr",
     "output_type": "stream",
     "text": [
      "Reading metadata...: 3413it [00:00, 16736.53it/s]\n"
     ]
    },
    {
     "name": "stdout",
     "output_type": "stream",
     "text": [
      "Loaded a sample from Common Voice dataset for bg that was long enough >:)\n",
      "Translation found: It is located three hours away from Stara Zagora, surrounded by Turkish villages.\n",
      "Filled 2025-09-22 with Bulgarian\n",
      "\n",
      "Generating an example for Nepali (ne)\n"
     ]
    },
    {
     "name": "stderr",
     "output_type": "stream",
     "text": [
      "Reading metadata...: 194it [00:00, 2352.94it/s]\n"
     ]
    },
    {
     "name": "stdout",
     "output_type": "stream",
     "text": [
      "Loaded a sample from Common Voice dataset for ne-NP that was long enough >:)\n",
      "Translation found: A movie you like is good for you, a movie you don't like is bad for you.\n",
      "Filled 2025-09-23 with Nepali\n",
      "\n",
      "Generating an example for German (de)\n"
     ]
    },
    {
     "name": "stderr",
     "output_type": "stream",
     "text": [
      "Reading metadata...: 567993it [00:12, 47235.32it/s]\n"
     ]
    },
    {
     "name": "stdout",
     "output_type": "stream",
     "text": [
      "Loaded a sample from Common Voice dataset for de that was long enough >:)\n",
      "Translation found: The former Catholic chapel of the old Krupp settlement Altenhof is now the rebuilt hospital chapel.\n",
      "Filled 2025-09-24 with German\n",
      "\n",
      "Generating an example for Spanish (es-la)\n"
     ]
    },
    {
     "name": "stderr",
     "output_type": "stream",
     "text": [
      "Reading metadata...: 311392it [00:06, 45358.49it/s]\n"
     ]
    },
    {
     "name": "stdout",
     "output_type": "stream",
     "text": [
      "Loaded a sample from Common Voice dataset for es that was long enough >:)\n",
      "Translation found: The President may only be re-elected for a second term.\n",
      "Filled 2025-09-25 with Spanish\n",
      "\n",
      "Generating an example for Portuguese (pt-br)\n"
     ]
    },
    {
     "name": "stderr",
     "output_type": "stream",
     "text": [
      "Reading metadata...: 21202it [00:00, 29490.80it/s]\n"
     ]
    },
    {
     "name": "stdout",
     "output_type": "stream",
     "text": [
      "Loaded a sample from Common Voice dataset for pt that was long enough >:)\n",
      "Translation found: A boy is kicking a blue ball on the carpet surrounded by toys.\n",
      "Filled 2025-09-26 with Portuguese\n",
      "\n",
      "Generating an example for Mandarin (zh)\n"
     ]
    },
    {
     "name": "stderr",
     "output_type": "stream",
     "text": [
      "Reading metadata...: 7048it [00:00, 30277.98it/s]\n"
     ]
    },
    {
     "name": "stdout",
     "output_type": "stream",
     "text": [
      "Loaded a sample from Common Voice dataset for zh-TW but it was too short :3\n",
      "Translation found: At first I thought it was coming\n",
      "Filled 2025-09-27 with Mandarin\n",
      "\n",
      "Generating an example for Armenian (hy-west)\n"
     ]
    },
    {
     "name": "stderr",
     "output_type": "stream",
     "text": [
      "Reading metadata...: 651it [00:00, 9867.84it/s]\n"
     ]
    },
    {
     "name": "stdout",
     "output_type": "stream",
     "text": [
      "Loaded a sample from Common Voice dataset for hy-AM that was long enough >:)\n",
      "Translation found: He is considered one of the most famous actors in Indian cinema.\n",
      "Filled 2025-09-28 with Armenian\n",
      "\n",
      "Generating an example for Hindi (hi)\n"
     ]
    },
    {
     "name": "stderr",
     "output_type": "stream",
     "text": [
      "Reading metadata...: 4630it [00:00, 20033.87it/s]\n"
     ]
    },
    {
     "name": "stdout",
     "output_type": "stream",
     "text": [
      "Loaded a sample from Common Voice dataset for hi that was long enough >:)\n",
      "Translation found: Madhuri looks charming in the film 'Dedh Ishqiya', see the first look\n",
      "Filled 2025-09-29 with Hindi\n",
      "\n",
      "Generating an example for Vietnamese (vi)\n"
     ]
    },
    {
     "name": "stderr",
     "output_type": "stream",
     "text": [
      "Reading metadata...: 2383it [00:00, 16815.91it/s]\n"
     ]
    },
    {
     "name": "stdout",
     "output_type": "stream",
     "text": [
      "Loaded a sample from Common Voice dataset for vi that was long enough >:)\n",
      "Translation found: Then will turn into a ghost soldier to serve the devil\n",
      "Filled 2025-09-30 with Vietnamese\n",
      "\n",
      "Generating an example for Welsh (cy)\n"
     ]
    },
    {
     "name": "stderr",
     "output_type": "stream",
     "text": [
      "Reading metadata...: 7871it [00:00, 23103.46it/s]\n"
     ]
    },
    {
     "name": "stdout",
     "output_type": "stream",
     "text": [
      "Loaded a sample from Common Voice dataset for cy that was long enough >:)\n",
      "Filled 2025-10-01 with Welsh\n",
      "\n",
      "Generating an example for Russian (ru)\n"
     ]
    },
    {
     "name": "stderr",
     "output_type": "stream",
     "text": [
      "Reading metadata...: 26328it [00:01, 21250.34it/s]\n"
     ]
    },
    {
     "name": "stdout",
     "output_type": "stream",
     "text": [
      "Loaded a sample from Common Voice dataset for ru that was long enough >:)\n",
      "Translation found: At the high-level meeting five years ago, Ireland made a very specific commitment.\n",
      "Filled 2025-10-02 with Russian\n",
      "\n",
      "Generating an example for Punjabi (pa)\n"
     ]
    },
    {
     "name": "stderr",
     "output_type": "stream",
     "text": [
      "Reading metadata...: 728it [00:00, 11382.10it/s]\n"
     ]
    },
    {
     "name": "stdout",
     "output_type": "stream",
     "text": [
      "Loaded a sample from Common Voice dataset for pa-IN that was long enough >:)\n",
      "Translation found: While this is Sania's first Grand Slam\n",
      "Filled 2025-10-03 with Punjabi\n",
      "\n",
      "Generating an example for Turkish (tr)\n"
     ]
    },
    {
     "name": "stderr",
     "output_type": "stream",
     "text": [
      "Reading metadata...: 31465it [00:01, 29559.40it/s]\n"
     ]
    },
    {
     "name": "stdout",
     "output_type": "stream",
     "text": [
      "Loaded a sample from Common Voice dataset for tr that was long enough >:)\n",
      "Translation found: Kerim Agha weighed it with her eyes and said: \"Take it to the town market tomorrow.\"\n",
      "Filled 2025-10-04 with Turkish\n",
      "\n",
      "Generating an example for Spanish (es)\n"
     ]
    },
    {
     "name": "stderr",
     "output_type": "stream",
     "text": [
      "Reading metadata...: 311392it [00:07, 43402.75it/s]\n"
     ]
    },
    {
     "name": "stdout",
     "output_type": "stream",
     "text": [
      "Loaded a sample from Common Voice dataset for es that was long enough >:)\n",
      "Translation found: The study took place in the city of Quito, Pichincha, Ecuador.\n",
      "Filled 2025-10-05 with Spanish\n",
      "\n",
      "Generating an example for Vietnamese (vi-sgn)\n"
     ]
    },
    {
     "name": "stderr",
     "output_type": "stream",
     "text": [
      "Reading metadata...: 2383it [00:00, 23269.41it/s]\n"
     ]
    },
    {
     "name": "stdout",
     "output_type": "stream",
     "text": [
      "Loaded a sample from Common Voice dataset for vi that was long enough >:)\n",
      "Translation found: Unable to escape, he also killed his relatives and friends.\n",
      "Filled 2025-10-06 with Vietnamese\n",
      "\n",
      "Generating an example for Greek (el)\n"
     ]
    },
    {
     "name": "stderr",
     "output_type": "stream",
     "text": [
      "Reading metadata...: 1913it [00:00, 19139.37it/s]\n"
     ]
    },
    {
     "name": "stdout",
     "output_type": "stream",
     "text": [
      "Loaded a sample from Common Voice dataset for el that was long enough >:)\n",
      "Translation found: \"Old man!\"\n",
      "Filled 2025-10-07 with Greek\n",
      "\n"
     ]
    }
   ],
   "source": [
    "# All available languages, removing english\n",
    "languages_df = pd.read_csv(LANGUAGE_DATA_PATH)\n",
    "all_languages = languages_df['espeak_code'].unique()\n",
    "for code in ['en', 'en-gb', 'en-sc', 'en-uk-north', 'en-uk-wmids', 'en-us', 'en-wi']:\n",
    "    all_languages = np.delete(all_languages, np.where(all_languages == code))\n",
    "all_languages\n",
    "\n",
    "# Select number_to_generate many languages, with some non-repetition baked into this choice\n",
    "sample = sample_with_repeat_rounds(list(all_languages), number_to_generate)\n",
    "\n",
    "START_DAY = date(2025, 6, 13) # first day in the daily games series\n",
    "\n",
    "# Generate examples\n",
    "for chosen_language in sample:\n",
    "\n",
    "    # Load the dataframe\n",
    "    if CSV_PATH.exists():\n",
    "        game_df = pd.read_csv(CSV_PATH, parse_dates = ['date'])\n",
    "        # mutate the column to a Python date, not Timestamp\n",
    "        game_df['date'] = game_df['date'].dt.date\n",
    "    else:\n",
    "        game_df = pd.DataFrame(columns=['date'])\n",
    "\n",
    "    # Decide date to which this example corresponds\n",
    "    next_day = (max(game_df['date']) + timedelta(days = 1)) if not game_df.empty else START_DAY\n",
    "\n",
    "    # Fill in the next day with an example of the chosen language\n",
    "    fill_day(chosen_language, next_day, languages_df, game_df, CSV_PATH)"
   ]
  },
  {
   "cell_type": "markdown",
   "id": "447ea99e",
   "metadata": {},
   "source": [
    "## Replacer"
   ]
  },
  {
   "cell_type": "code",
   "execution_count": 6,
   "id": "615f81e3",
   "metadata": {},
   "outputs": [
    {
     "name": "stdout",
     "output_type": "stream",
     "text": [
      "Generating an example for Swahili (sw)\n"
     ]
    },
    {
     "name": "stderr",
     "output_type": "stream",
     "text": [
      "Reading metadata...: 44075it [00:02, 16429.99it/s]\n"
     ]
    },
    {
     "name": "stdout",
     "output_type": "stream",
     "text": [
      "Loaded a sample from Common Voice dataset for sw that was long enough >:)\n",
      "Clicked target language dropdown\n",
      "Translation found: denied entry to Chinese people, the law aimed to reduce\n",
      "Replaced 2025-07-01 with Swahili)\n"
     ]
    }
   ],
   "source": [
    "# Manually replacing\n",
    "date_string = \"2025-07-01\"\n",
    "\n",
    "# Load the dataframe\n",
    "if CSV_PATH.exists():\n",
    "    game_df = pd.read_csv(CSV_PATH, parse_dates = ['date'])\n",
    "    game_df['date'] = game_df['date'].dt.date\n",
    "else:\n",
    "    game_df = pd.DataFrame(columns=['date'])\n",
    "\n",
    "# Replace the example for this date with language of choice\n",
    "replace_day('sw', date_string, pd.read_csv(LANGUAGE_DATA_PATH), game_df, Path(GAME_DATA_PATH))"
   ]
  },
  {
   "cell_type": "markdown",
   "id": "23f9a419",
   "metadata": {},
   "source": [
    "## View Game Data"
   ]
  },
  {
   "cell_type": "code",
   "execution_count": 13,
   "id": "9c78d199",
   "metadata": {},
   "outputs": [
    {
     "data": {
      "text/html": [
       "<div>\n",
       "<style scoped>\n",
       "    .dataframe tbody tr th:only-of-type {\n",
       "        vertical-align: middle;\n",
       "    }\n",
       "\n",
       "    .dataframe tbody tr th {\n",
       "        vertical-align: top;\n",
       "    }\n",
       "\n",
       "    .dataframe thead th {\n",
       "        text-align: right;\n",
       "    }\n",
       "</style>\n",
       "<table border=\"1\" class=\"dataframe\">\n",
       "  <thead>\n",
       "    <tr style=\"text-align: right;\">\n",
       "      <th></th>\n",
       "      <th>date</th>\n",
       "      <th>iso</th>\n",
       "      <th>family_2</th>\n",
       "      <th>translation</th>\n",
       "      <th>sentence</th>\n",
       "      <th>family_0</th>\n",
       "      <th>lineage</th>\n",
       "      <th>espeak_code</th>\n",
       "      <th>family_1</th>\n",
       "      <th>sampling_rate</th>\n",
       "      <th>IPA</th>\n",
       "      <th>wave</th>\n",
       "      <th>language</th>\n",
       "      <th>cv_code</th>\n",
       "      <th>muffled_wave</th>\n",
       "    </tr>\n",
       "  </thead>\n",
       "  <tbody>\n",
       "    <tr>\n",
       "      <th>23</th>\n",
       "      <td>2025-07-06</td>\n",
       "      <td>hin</td>\n",
       "      <td>Shaurasenic</td>\n",
       "      <td>These apps will make your train journey easier</td>\n",
       "      <td>ये एप्स आपके ट्रेन के सफर को बनाएंगे और आसान</td>\n",
       "      <td>Indo-European</td>\n",
       "      <td>['Indo-European', 'Classical Indo-European', '...</td>\n",
       "      <td>hi</td>\n",
       "      <td>Indo-Iranian</td>\n",
       "      <td>48000</td>\n",
       "      <td>jeː ˈeːps ˌaːpkˌeː ʈɾˈeːn keː sˈʌpʰəɾ koː bˌən...</td>\n",
       "      <td>2025-07-06.mp3</td>\n",
       "      <td>Hindi</td>\n",
       "      <td>hi</td>\n",
       "      <td>NaN</td>\n",
       "    </tr>\n",
       "    <tr>\n",
       "      <th>24</th>\n",
       "      <td>2025-07-07</td>\n",
       "      <td>vie</td>\n",
       "      <td>Viet-Muong</td>\n",
       "      <td>I took the pack of cigarettes out to the porch...</td>\n",
       "      <td>Tôi cầm bao thuốc ra bên ngoài hiên hóng gió</td>\n",
       "      <td>Austroasiatic</td>\n",
       "      <td>['Austroasiatic', 'Vietic', 'Viet-Muong', 'Vie...</td>\n",
       "      <td>vi</td>\n",
       "      <td>Vietic</td>\n",
       "      <td>48000</td>\n",
       "      <td>t̪ˈo͡ɪ1 ɡˈə2m bˈaː͡ʊ1 tˈu͡əɜk͡h zˈaː1 bˈe1n ŋˈ...</td>\n",
       "      <td>2025-07-07.mp3</td>\n",
       "      <td>Vietnamese</td>\n",
       "      <td>vi</td>\n",
       "      <td>NaN</td>\n",
       "    </tr>\n",
       "    <tr>\n",
       "      <th>25</th>\n",
       "      <td>2025-07-08</td>\n",
       "      <td>nep</td>\n",
       "      <td>Eastern Pahari</td>\n",
       "      <td>If anyone has a program that can be held on th...</td>\n",
       "      <td>यदि कसैको क्याम्पसमा कार्यक्रम गर्न मिल्ने छ भ...</td>\n",
       "      <td>Indo-European</td>\n",
       "      <td>['Indo-European', 'Classical Indo-European', '...</td>\n",
       "      <td>ne</td>\n",
       "      <td>Indo-Iranian</td>\n",
       "      <td>48000</td>\n",
       "      <td>jˈʌdɪ kəsˈɛːkoː kːjˈaːmpəsˌəmaː kˈaːɾrjəkɾˌəmə...</td>\n",
       "      <td>2025-07-08.mp3</td>\n",
       "      <td>Nepali</td>\n",
       "      <td>ne-NP</td>\n",
       "      <td>NaN</td>\n",
       "    </tr>\n",
       "    <tr>\n",
       "      <th>26</th>\n",
       "      <td>2025-07-09</td>\n",
       "      <td>vie</td>\n",
       "      <td>Viet–Mường</td>\n",
       "      <td>Looking at the clock, it was already ten o'clo...</td>\n",
       "      <td>Nhìn đồng hồ lúc này cũng đã là mười giờ tối</td>\n",
       "      <td>Austroasiatic</td>\n",
       "      <td>['Austroasiatic', 'Vietic', 'Viet-Muong', 'Vie...</td>\n",
       "      <td>vi-hue</td>\n",
       "      <td>Vietic</td>\n",
       "      <td>48000</td>\n",
       "      <td>ɲˈi2ŋ ɗˈo2 hˈo2 lˌuɜk͡h nˈa͡ɪ2 ɡˈu5ŋ ɗˌaː5 lˌa...</td>\n",
       "      <td>2025-07-09.mp3</td>\n",
       "      <td>Vietnamese</td>\n",
       "      <td>vi</td>\n",
       "      <td>NaN</td>\n",
       "    </tr>\n",
       "    <tr>\n",
       "      <th>27</th>\n",
       "      <td>2025-07-10</td>\n",
       "      <td>ell</td>\n",
       "      <td>Modern Koineic</td>\n",
       "      <td>His knees buckled for a moment and he leaned a...</td>\n",
       "      <td>Τα γόνατά του κόπηκαν προς στιγμή και ακούμπησ...</td>\n",
       "      <td>Indo-European</td>\n",
       "      <td>['Indo-European', 'Classical Indo-European', '...</td>\n",
       "      <td>el</td>\n",
       "      <td>Graeco-Phrygian</td>\n",
       "      <td>48000</td>\n",
       "      <td>ta ɣˈonatˈa tu kˈopikˌam brˈos stiɣmˈi ke akˈu...</td>\n",
       "      <td>2025-07-10.mp3</td>\n",
       "      <td>Greek</td>\n",
       "      <td>el</td>\n",
       "      <td>NaN</td>\n",
       "    </tr>\n",
       "    <tr>\n",
       "      <th>28</th>\n",
       "      <td>2025-07-11</td>\n",
       "      <td>cym</td>\n",
       "      <td>Brythonic</td>\n",
       "      <td>Porridge is oatmeal boiled in water or milk.</td>\n",
       "      <td>Blawd ceirch wedi'i ferwi mewn dŵr neu laeth y...</td>\n",
       "      <td>Indo-European</td>\n",
       "      <td>['Indo-European', 'Classical Indo-European', '...</td>\n",
       "      <td>cy</td>\n",
       "      <td>Celtic</td>\n",
       "      <td>48000</td>\n",
       "      <td>blˈa͡ʊd kˈə͡ɪrx wɛdˈiːɨ vˈɛrwɨ me͡ʊn dˈuːr nˈə...</td>\n",
       "      <td>2025-07-11.mp3</td>\n",
       "      <td>Welsh</td>\n",
       "      <td>cy</td>\n",
       "      <td>NaN</td>\n",
       "    </tr>\n",
       "    <tr>\n",
       "      <th>29</th>\n",
       "      <td>2025-07-12</td>\n",
       "      <td>mkd</td>\n",
       "      <td>South Slavic</td>\n",
       "      <td>The houses are incredibly realistic, with mode...</td>\n",
       "      <td>Куќичките се неверојатно реални, со модерни де...</td>\n",
       "      <td>Indo-European</td>\n",
       "      <td>['Indo-European', 'Classical Indo-European', '...</td>\n",
       "      <td>mk</td>\n",
       "      <td>Balto-Slavic</td>\n",
       "      <td>48000</td>\n",
       "      <td>kʊk^ˈit͡ɕkɪtˌe se nˌeverˈojætnˌo rˈeælnˌɪ\\n s ...</td>\n",
       "      <td>2025-07-12.mp3</td>\n",
       "      <td>Macedonian</td>\n",
       "      <td>mk</td>\n",
       "      <td>NaN</td>\n",
       "    </tr>\n",
       "    <tr>\n",
       "      <th>30</th>\n",
       "      <td>2025-07-13</td>\n",
       "      <td>lit</td>\n",
       "      <td>Eastern Baltic</td>\n",
       "      <td>Its area is about half the area of Abruzzo.</td>\n",
       "      <td>Jos plotas sudaro apie pusę Abrucų ploto.</td>\n",
       "      <td>Indo-European</td>\n",
       "      <td>['Indo-European', 'Classical Indo-European', '...</td>\n",
       "      <td>lt</td>\n",
       "      <td>Balto-Slavic</td>\n",
       "      <td>48000</td>\n",
       "      <td>jˈoːs pl̩ˈoːtas sudˈaroː ˈapʲi͡e pˈuʂe͡ɑ abrˈu...</td>\n",
       "      <td>2025-07-13.mp3</td>\n",
       "      <td>Lithuanian</td>\n",
       "      <td>lt</td>\n",
       "      <td>NaN</td>\n",
       "    </tr>\n",
       "    <tr>\n",
       "      <th>31</th>\n",
       "      <td>2025-07-14</td>\n",
       "      <td>fin</td>\n",
       "      <td>Coastal Finnic</td>\n",
       "      <td>Or has some other species, perhaps a bacterium...</td>\n",
       "      <td>Vai onko jokin muu laji, bakteeri kenties, tuh...</td>\n",
       "      <td>Uralic</td>\n",
       "      <td>['Uralic', 'Finnic', 'Coastal Finnic', 'Neva',...</td>\n",
       "      <td>fi</td>\n",
       "      <td>Finnic</td>\n",
       "      <td>48000</td>\n",
       "      <td>va͡i ˈoŋko jˈokɪn mˈuː lˈajɪ\\n bˈakteːrɪ kˈent...</td>\n",
       "      <td>2025-07-14.mp3</td>\n",
       "      <td>Finnish</td>\n",
       "      <td>fi</td>\n",
       "      <td>NaN</td>\n",
       "    </tr>\n",
       "    <tr>\n",
       "      <th>32</th>\n",
       "      <td>2025-07-15</td>\n",
       "      <td>afr</td>\n",
       "      <td>Macro-Dutch</td>\n",
       "      <td>Your school choir performed the choral works b...</td>\n",
       "      <td>Jou skoolkoor het die koorwerke hieronder gedu...</td>\n",
       "      <td>Indo-European</td>\n",
       "      <td>['Indo-European', 'Classical Indo-European', '...</td>\n",
       "      <td>af</td>\n",
       "      <td>Germanic</td>\n",
       "      <td>48000</td>\n",
       "      <td>jə͡ʊ skˈʊ͡əlkʊ͡ər hɛ di kˈʊ͡ərværkə hˈiːrɔnər ...</td>\n",
       "      <td>2025-07-15.mp3</td>\n",
       "      <td>Afrikaans</td>\n",
       "      <td>af</td>\n",
       "      <td>NaN</td>\n",
       "    </tr>\n",
       "  </tbody>\n",
       "</table>\n",
       "</div>"
      ],
      "text/plain": [
       "          date  iso        family_2  \\\n",
       "23  2025-07-06  hin     Shaurasenic   \n",
       "24  2025-07-07  vie      Viet-Muong   \n",
       "25  2025-07-08  nep  Eastern Pahari   \n",
       "26  2025-07-09  vie      Viet–Mường   \n",
       "27  2025-07-10  ell  Modern Koineic   \n",
       "28  2025-07-11  cym       Brythonic   \n",
       "29  2025-07-12  mkd    South Slavic   \n",
       "30  2025-07-13  lit  Eastern Baltic   \n",
       "31  2025-07-14  fin  Coastal Finnic   \n",
       "32  2025-07-15  afr     Macro-Dutch   \n",
       "\n",
       "                                          translation  \\\n",
       "23     These apps will make your train journey easier   \n",
       "24  I took the pack of cigarettes out to the porch...   \n",
       "25  If anyone has a program that can be held on th...   \n",
       "26  Looking at the clock, it was already ten o'clo...   \n",
       "27  His knees buckled for a moment and he leaned a...   \n",
       "28       Porridge is oatmeal boiled in water or milk.   \n",
       "29  The houses are incredibly realistic, with mode...   \n",
       "30        Its area is about half the area of Abruzzo.   \n",
       "31  Or has some other species, perhaps a bacterium...   \n",
       "32  Your school choir performed the choral works b...   \n",
       "\n",
       "                                             sentence       family_0  \\\n",
       "23       ये एप्स आपके ट्रेन के सफर को बनाएंगे और आसान  Indo-European   \n",
       "24       Tôi cầm bao thuốc ra bên ngoài hiên hóng gió  Austroasiatic   \n",
       "25  यदि कसैको क्याम्पसमा कार्यक्रम गर्न मिल्ने छ भ...  Indo-European   \n",
       "26       Nhìn đồng hồ lúc này cũng đã là mười giờ tối  Austroasiatic   \n",
       "27  Τα γόνατά του κόπηκαν προς στιγμή και ακούμπησ...  Indo-European   \n",
       "28  Blawd ceirch wedi'i ferwi mewn dŵr neu laeth y...  Indo-European   \n",
       "29  Куќичките се неверојатно реални, со модерни де...  Indo-European   \n",
       "30          Jos plotas sudaro apie pusę Abrucų ploto.  Indo-European   \n",
       "31  Vai onko jokin muu laji, bakteeri kenties, tuh...         Uralic   \n",
       "32  Jou skoolkoor het die koorwerke hieronder gedu...  Indo-European   \n",
       "\n",
       "                                              lineage espeak_code  \\\n",
       "23  ['Indo-European', 'Classical Indo-European', '...          hi   \n",
       "24  ['Austroasiatic', 'Vietic', 'Viet-Muong', 'Vie...          vi   \n",
       "25  ['Indo-European', 'Classical Indo-European', '...          ne   \n",
       "26  ['Austroasiatic', 'Vietic', 'Viet-Muong', 'Vie...      vi-hue   \n",
       "27  ['Indo-European', 'Classical Indo-European', '...          el   \n",
       "28  ['Indo-European', 'Classical Indo-European', '...          cy   \n",
       "29  ['Indo-European', 'Classical Indo-European', '...          mk   \n",
       "30  ['Indo-European', 'Classical Indo-European', '...          lt   \n",
       "31  ['Uralic', 'Finnic', 'Coastal Finnic', 'Neva',...          fi   \n",
       "32  ['Indo-European', 'Classical Indo-European', '...          af   \n",
       "\n",
       "           family_1  sampling_rate  \\\n",
       "23     Indo-Iranian          48000   \n",
       "24           Vietic          48000   \n",
       "25     Indo-Iranian          48000   \n",
       "26           Vietic          48000   \n",
       "27  Graeco-Phrygian          48000   \n",
       "28           Celtic          48000   \n",
       "29     Balto-Slavic          48000   \n",
       "30     Balto-Slavic          48000   \n",
       "31           Finnic          48000   \n",
       "32         Germanic          48000   \n",
       "\n",
       "                                                  IPA            wave  \\\n",
       "23  jeː ˈeːps ˌaːpkˌeː ʈɾˈeːn keː sˈʌpʰəɾ koː bˌən...  2025-07-06.mp3   \n",
       "24  t̪ˈo͡ɪ1 ɡˈə2m bˈaː͡ʊ1 tˈu͡əɜk͡h zˈaː1 bˈe1n ŋˈ...  2025-07-07.mp3   \n",
       "25  jˈʌdɪ kəsˈɛːkoː kːjˈaːmpəsˌəmaː kˈaːɾrjəkɾˌəmə...  2025-07-08.mp3   \n",
       "26  ɲˈi2ŋ ɗˈo2 hˈo2 lˌuɜk͡h nˈa͡ɪ2 ɡˈu5ŋ ɗˌaː5 lˌa...  2025-07-09.mp3   \n",
       "27  ta ɣˈonatˈa tu kˈopikˌam brˈos stiɣmˈi ke akˈu...  2025-07-10.mp3   \n",
       "28  blˈa͡ʊd kˈə͡ɪrx wɛdˈiːɨ vˈɛrwɨ me͡ʊn dˈuːr nˈə...  2025-07-11.mp3   \n",
       "29  kʊk^ˈit͡ɕkɪtˌe se nˌeverˈojætnˌo rˈeælnˌɪ\\n s ...  2025-07-12.mp3   \n",
       "30  jˈoːs pl̩ˈoːtas sudˈaroː ˈapʲi͡e pˈuʂe͡ɑ abrˈu...  2025-07-13.mp3   \n",
       "31  va͡i ˈoŋko jˈokɪn mˈuː lˈajɪ\\n bˈakteːrɪ kˈent...  2025-07-14.mp3   \n",
       "32  jə͡ʊ skˈʊ͡əlkʊ͡ər hɛ di kˈʊ͡ərværkə hˈiːrɔnər ...  2025-07-15.mp3   \n",
       "\n",
       "      language cv_code  muffled_wave  \n",
       "23       Hindi      hi           NaN  \n",
       "24  Vietnamese      vi           NaN  \n",
       "25      Nepali   ne-NP           NaN  \n",
       "26  Vietnamese      vi           NaN  \n",
       "27       Greek      el           NaN  \n",
       "28       Welsh      cy           NaN  \n",
       "29  Macedonian      mk           NaN  \n",
       "30  Lithuanian      lt           NaN  \n",
       "31     Finnish      fi           NaN  \n",
       "32   Afrikaans      af           NaN  "
      ]
     },
     "execution_count": 13,
     "metadata": {},
     "output_type": "execute_result"
    }
   ],
   "source": [
    "game_df.tail(10)"
   ]
  }
 ],
 "metadata": {
  "kernelspec": {
   "display_name": "erdos_summer_2025",
   "language": "python",
   "name": "python3"
  },
  "language_info": {
   "codemirror_mode": {
    "name": "ipython",
    "version": 3
   },
   "file_extension": ".py",
   "mimetype": "text/x-python",
   "name": "python",
   "nbconvert_exporter": "python",
   "pygments_lexer": "ipython3",
   "version": "3.12.10"
  }
 },
 "nbformat": 4,
 "nbformat_minor": 5
}
